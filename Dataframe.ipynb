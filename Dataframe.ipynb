{
 "cells": [
  {
   "cell_type": "code",
   "execution_count": 4,
   "id": "82902fc9-12f7-4c35-9cab-01236151fa1c",
   "metadata": {},
   "outputs": [
    {
     "name": "stdout",
     "output_type": "stream",
     "text": [
      "||Shree Ganeshay Namah||\n"
     ]
    }
   ],
   "source": [
    "print(\"||Shree Ganeshay Namah||\")"
   ]
  },
  {
   "cell_type": "code",
   "execution_count": 5,
   "id": "95d4c7d5-6941-4bcd-94c4-ff97de45d810",
   "metadata": {},
   "outputs": [
    {
     "data": {
      "text/plain": [
       "float"
      ]
     },
     "execution_count": 5,
     "metadata": {},
     "output_type": "execute_result"
    }
   ],
   "source": [
    " l1= 12.4\n",
    "type(l1)b"
   ]
  },
  {
   "cell_type": "code",
   "execution_count": 53,
   "id": "ffa51ae3-e7e6-4219-9b79-3631e49b8150",
   "metadata": {},
   "outputs": [
    {
     "name": "stdout",
     "output_type": "stream",
     "text": [
      "[[1, 2, 3, 4, 5], [21, 22, 23, 24, 25]]\n",
      "[[1, 2, 3, 4, 5], [21, 22, 23, 24, 25], 'nihal']\n"
     ]
    }
   ],
   "source": [
    "l1=[1,2,3,4,5]\n",
    "l2=[21,22,23,24,25]\n",
    "l3=[l1,l2]\n",
    "print(l3)\n",
    "l3.append('nihal')\n",
    "print(l3)"
   ]
  },
  {
   "cell_type": "code",
   "execution_count": 61,
   "id": "5f976977-6c75-4cb6-ae78-fa8a5066a518",
   "metadata": {},
   "outputs": [
    {
     "data": {
      "text/plain": [
       "'2.1.4'"
      ]
     },
     "execution_count": 61,
     "metadata": {},
     "output_type": "execute_result"
    }
   ],
   "source": [
    "import numpy as np\n",
    "import pandas as pd\n",
    "np.__version__\n",
    "pd.__version__"
   ]
  },
  {
   "cell_type": "code",
   "execution_count": 62,
   "id": "27d6e9f2-28ab-4e6d-b0ce-aafaff48a56f",
   "metadata": {},
   "outputs": [
    {
     "data": {
      "text/plain": [
       "12"
      ]
     },
     "execution_count": 62,
     "metadata": {},
     "output_type": "execute_result"
    }
   ],
   "source": [
    "import numpy as np\n",
    "s=12\n",
    "s"
   ]
  },
  {
   "cell_type": "code",
   "execution_count": 71,
   "id": "0bb67dda-9348-4bc1-8f77-75c23c0b1b74",
   "metadata": {},
   "outputs": [
    {
     "data": {
      "text/plain": [
       "array([[1, 3, 5],\n",
       "       [2, 4, 6],\n",
       "       [3, 5, 7]])"
      ]
     },
     "execution_count": 71,
     "metadata": {},
     "output_type": "execute_result"
    }
   ],
   "source": [
    "v=np.array([1,8,-4])\n",
    "v.shape\n",
    "v.reshape(1,3)\n",
    "v.shape\n",
    "v.reshape(3,1)\n",
    "\n",
    "s=np.array([[1,2,3],[3,4,5],[5,6,7]])\n",
    "p=np.array([[2,3,4],[4,5,6],[6,7,8]])\n",
    "s.T"
   ]
  },
  {
   "cell_type": "code",
   "execution_count": 77,
   "id": "5ffdbd34-86ce-4dd3-806e-561e20f3a05f",
   "metadata": {},
   "outputs": [
    {
     "data": {
      "text/plain": [
       "array([3.33333333, 6.33333333])"
      ]
     },
     "execution_count": 77,
     "metadata": {},
     "output_type": "execute_result"
    }
   ],
   "source": [
    "n1=np.array([[2,3,5],[6,5,8]])\n",
    "n2=np.array([[2,3,5],[6,5,8],[2,3,4]])\n",
    "np.dot(n1,n2)\n",
    "np.mean(n1,axis=1)"
   ]
  },
  {
   "cell_type": "code",
   "execution_count": 78,
   "id": "6bdb4246-5f0f-4d07-ae00-db1f45433d51",
   "metadata": {},
   "outputs": [
    {
     "name": "stdout",
     "output_type": "stream",
     "text": [
      "0             Amy White\n",
      "1          Jack Stewart\n",
      "2    Richard Lauderdale\n",
      "3          Sara Johnson\n",
      "dtype: object\n"
     ]
    }
   ],
   "source": [
    "import pandas as pd\n",
    "employee_names = ['Amy White', 'Jack Stewart', 'Richard Lauderdale', 'Sara Johnson']\n",
    "employee_names_Series = pd.Series(employee_names)\n",
    "print(employee_names_Series)"
   ]
  },
  {
   "cell_type": "code",
   "execution_count": 80,
   "id": "cad5b122-10b2-492e-85d1-ce59c8730992",
   "metadata": {},
   "outputs": [
    {
     "name": "stdout",
     "output_type": "stream",
     "text": [
      "0     5\n",
      "1     8\n",
      "2     3\n",
      "3    10\n",
      "dtype: int64\n"
     ]
    }
   ],
   "source": [
    "import pandas as pd\n",
    "import numpy as np\n",
    "work_experience_years = pd.Series([5,8,3,10])\n",
    "# work_experience_years = np.array(work_experience_years)\n",
    "print(work_experience_years)"
   ]
  },
  {
   "cell_type": "code",
   "execution_count": 81,
   "id": "1552df17-ccb1-4687-afaf-fa76cb7b1d6c",
   "metadata": {},
   "outputs": [
    {
     "name": "stdout",
     "output_type": "stream",
     "text": [
      "<class 'numpy.ndarray'>\n"
     ]
    }
   ],
   "source": [
    "import pandas as pd\n",
    "\n",
    "work_experience_years = pd.Series([5,8,3,10])\n",
    "print(type(work_experience_years.to_numpy()))"
   ]
  },
  {
   "cell_type": "code",
   "execution_count": 86,
   "id": "2a3ce363-c8d4-4d08-aae8-65a2471cc40c",
   "metadata": {},
   "outputs": [
    {
     "name": "stdout",
     "output_type": "stream",
     "text": [
      "<class 'str'>\n"
     ]
    }
   ],
   "source": [
    "import pandas as pd\n",
    "\n",
    "employees_work_exp = pd.Series({'Martin':8, 'George':5})\n",
    "print(type(employees_work_exp.index[0]))"
   ]
  },
  {
   "cell_type": "code",
   "execution_count": 89,
   "id": "dc3dba98-20be-426e-812f-21589a621625",
   "metadata": {},
   "outputs": [
    {
     "name": "stdout",
     "output_type": "stream",
     "text": [
      "                 Name  Age  Working Experience (Yrs.)\n",
      "1           Amy White   50                          5\n",
      "2        Jack Stewart   53                          8\n",
      "3  Richard Lauderdale   35                          3\n",
      "4        Sara Johnson   43                         10\n"
     ]
    }
   ],
   "source": [
    "import pandas as pd\n",
    "data = {'Name':['Amy White','Jack Stewart','Richard Lauderdale','Sara Johnson'],'Age':[50,53,35,43],'Working Experience (Yrs.)':[5,8,3,10]}\n",
    "df = pd.DataFrame(data,index=[1,2,3,4])\n",
    "print(df)"
   ]
  },
  {
   "cell_type": "code",
   "execution_count": 91,
   "id": "45bcf862-59b4-499f-a34a-94256cd5a4f2",
   "metadata": {},
   "outputs": [
    {
     "name": "stdout",
     "output_type": "stream",
     "text": [
      "                 Name  Age  Working Experience (Yrs.)\n",
      "0           Amy White   50                          5\n",
      "1        Jack Stewart   53                          8\n",
      "2  Richard Lauderdale   35                          3\n",
      "3        Sara Johnson   43                         10\n"
     ]
    }
   ],
   "source": [
    "import pandas as pd\n",
    "names= pd.Series(['Amy White','Jack Stewart','Richard Lauderdale','Sara Johnson'])\n",
    "age= pd.Series([50,53,35,43])\n",
    "working_experience_yrs=pd.Series([5,8,3,10])\n",
    "data={'Name':names,'Age':age,'Working Experience (Yrs.)':working_experience_yrs}\n",
    "df=pd.DataFrame(data)\n",
    "print(df)"
   ]
  },
  {
   "cell_type": "code",
   "execution_count": 94,
   "id": "2a889700-6c5b-479e-9826-2216edfe8cfe",
   "metadata": {},
   "outputs": [
    {
     "name": "stdout",
     "output_type": "stream",
     "text": [
      "                 Name  Age  Working Experience (Yrs.)\n",
      "0           Amy White   50                          5\n",
      "1        Jack Stewart   53                          8\n",
      "2  Richard Lauderdale   35                          3\n",
      "3        Sara Johnson   43                         10\n"
     ]
    }
   ],
   "source": [
    "import pandas as pd\n",
    "data=[['Amy White',50,5],['Jack Stewart',53,8],['Richard Lauderdale',35,3],['Sara Johnson',43,10]]\n",
    "df=pd.DataFrame(data)\n",
    "df.columns=['Name','Age','Working Experience (Yrs.)']\n",
    "print(df)"
   ]
  }
 ],
 "metadata": {
  "kernelspec": {
   "display_name": "Python 3 (ipykernel)",
   "language": "python",
   "name": "python3"
  },
  "language_info": {
   "codemirror_mode": {
    "name": "ipython",
    "version": 3
   },
   "file_extension": ".py",
   "mimetype": "text/x-python",
   "name": "python",
   "nbconvert_exporter": "python",
   "pygments_lexer": "ipython3",
   "version": "3.11.7"
  }
 },
 "nbformat": 4,
 "nbformat_minor": 5
}
