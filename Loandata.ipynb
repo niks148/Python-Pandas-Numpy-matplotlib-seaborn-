{
 "cells": [
  {
   "cell_type": "code",
   "execution_count": 80,
   "id": "83239174-81f9-4693-ab2c-226c9d434a37",
   "metadata": {},
   "outputs": [],
   "source": [
    "import pandas as pd\n",
    "import numpy as np\n",
    "np.set_printoptions(suppress = True, linewidth=300, precision = 1)"
   ]
  },
  {
   "cell_type": "code",
   "execution_count": 56,
   "id": "fb2968aa-a484-4118-93fc-5fef571cd6cf",
   "metadata": {},
   "outputs": [
    {
     "data": {
      "text/plain": [
       "array([[48010226. ,        nan,    35000. , ...,        nan,        nan,     9453. ],\n",
       "       [57693261. ,        nan,    30000. , ...,        nan,        nan,     4679.7],\n",
       "       [59432726. ,        nan,    15000. , ...,        nan,        nan,     1969.8],\n",
       "       ...,\n",
       "       [50415990. ,        nan,    10000. , ...,        nan,        nan,     2185.6],\n",
       "       [46154151. ,        nan,        nan, ...,        nan,        nan,     3199.4],\n",
       "       [66055249. ,        nan,    10000. , ...,        nan,        nan,      301.9]])"
      ]
     },
     "execution_count": 56,
     "metadata": {},
     "output_type": "execute_result"
    }
   ],
   "source": [
    "loan_data = np.genfromtxt('loan-data.csv',delimiter=';',skip_header=True, autostrip=True)\n",
    "loan_data"
   ]
  },
  {
   "cell_type": "code",
   "execution_count": 30,
   "id": "c00af272-cf0a-4901-979e-d654b77432d8",
   "metadata": {},
   "outputs": [
    {
     "data": {
      "text/plain": [
       "88005"
      ]
     },
     "execution_count": 30,
     "metadata": {},
     "output_type": "execute_result"
    }
   ],
   "source": [
    "np.isnan(loan_data).sum()"
   ]
  },
  {
   "cell_type": "code",
   "execution_count": 57,
   "id": "1234a821-594f-43e4-be7d-71d42c0d7a4d",
   "metadata": {},
   "outputs": [
    {
     "data": {
      "text/plain": [
       "(10000, 14)"
      ]
     },
     "execution_count": 57,
     "metadata": {},
     "output_type": "execute_result"
    }
   ],
   "source": [
    "loan_data.shape"
   ]
  },
  {
   "cell_type": "code",
   "execution_count": 32,
   "id": "29e53ab3-37a9-4afe-b827-04afdcd7b8ca",
   "metadata": {},
   "outputs": [
    {
     "name": "stderr",
     "output_type": "stream",
     "text": [
      "C:\\Users\\dell\\AppData\\Local\\Temp\\ipykernel_27592\\787100467.py:2: RuntimeWarning: Mean of empty slice\n",
      "  tmp_mean = np.nanmean(loan_data , axis=0)\n"
     ]
    },
    {
     "data": {
      "text/plain": [
       "array([54015809.2,        nan,    15273.5,        nan,    15311. ,        nan,       16.6,      440.9,        nan,        nan,        nan,        nan,        nan,     3143.9])"
      ]
     },
     "execution_count": 32,
     "metadata": {},
     "output_type": "execute_result"
    }
   ],
   "source": [
    "tmp_fill = np.nanmax(loan_data) + 1\n",
    "tmp_mean = np.nanmean(loan_data , axis=0)\n",
    "tmp_mean"
   ]
  },
  {
   "cell_type": "code",
   "execution_count": 34,
   "id": "d360bdb1-c375-491f-85b2-58e4940febf1",
   "metadata": {},
   "outputs": [
    {
     "name": "stderr",
     "output_type": "stream",
     "text": [
      "C:\\Users\\dell\\AppData\\Local\\Temp\\ipykernel_27592\\38352520.py:1: RuntimeWarning: All-NaN slice encountered\n",
      "  tmp_data = np.array([np.nanmin(loan_data , axis = 0), tmp_mean, np.nanmax(loan_data, axis = 0)])\n"
     ]
    },
    {
     "data": {
      "text/plain": [
       "array([[  373332. ,        nan,     1000. ,        nan,     1000. ,        nan,        6. ,       31.4,        nan,        nan,        nan,        nan,        nan,        0. ],\n",
       "       [54015809.2,        nan,    15273.5,        nan,    15311. ,        nan,       16.6,      440.9,        nan,        nan,        nan,        nan,        nan,     3143.9],\n",
       "       [68616519. ,        nan,    35000. ,        nan,    35000. ,        nan,       29. ,     1373. ,        nan,        nan,        nan,        nan,        nan,    41913.6]])"
      ]
     },
     "execution_count": 34,
     "metadata": {},
     "output_type": "execute_result"
    }
   ],
   "source": [
    "tmp_data = np.array([np.nanmin(loan_data , axis = 0), tmp_mean, np.nanmax(loan_data, axis = 0)])\n",
    "tmp_data"
   ]
  },
  {
   "cell_type": "code",
   "execution_count": 40,
   "id": "89717f7f-51ea-4e2d-8022-11a4c307c5f9",
   "metadata": {},
   "outputs": [
    {
     "data": {
      "text/plain": [
       "array([ 1,  3,  5,  8,  9, 10, 11, 12], dtype=int64)"
      ]
     },
     "execution_count": 40,
     "metadata": {},
     "output_type": "execute_result"
    }
   ],
   "source": [
    "col_string = np.argwhere(np.isnan(tmp_mean)).squeeze()\n",
    "col_string"
   ]
  },
  {
   "cell_type": "code",
   "execution_count": 43,
   "id": "1328d1b0-1042-4c93-9588-1abe70f62f6a",
   "metadata": {},
   "outputs": [
    {
     "data": {
      "text/plain": [
       "array([ 0,  2,  4,  6,  7, 13], dtype=int64)"
      ]
     },
     "execution_count": 43,
     "metadata": {},
     "output_type": "execute_result"
    }
   ],
   "source": [
    "col_num = np.argwhere(np.isnan(tmp_mean) == False).squeeze()\n",
    "col_num"
   ]
  },
  {
   "cell_type": "code",
   "execution_count": 45,
   "id": "83070af3-1981-45ce-8214-713f5bf6b7d7",
   "metadata": {},
   "outputs": [
    {
     "data": {
      "text/plain": [
       "array([['May-15', 'Current', '36 months', ..., 'Verified', 'https://www.lendingclub.com/browse/loanDetail.action?loan_id=48010226', 'CA'],\n",
       "       ['', 'Current', '36 months', ..., 'Source Verified', 'https://www.lendingclub.com/browse/loanDetail.action?loan_id=57693261', 'NY'],\n",
       "       ['Sep-15', 'Current', '36 months', ..., 'Verified', 'https://www.lendingclub.com/browse/loanDetail.action?loan_id=59432726', 'PA'],\n",
       "       ...,\n",
       "       ['Jun-15', 'Current', '36 months', ..., 'Source Verified', 'https://www.lendingclub.com/browse/loanDetail.action?loan_id=50415990', 'CA'],\n",
       "       ['Apr-15', 'Current', '36 months', ..., 'Source Verified', 'https://www.lendingclub.com/browse/loanDetail.action?loan_id=46154151', 'OH'],\n",
       "       ['Dec-15', 'Current', '36 months', ..., '', 'https://www.lendingclub.com/browse/loanDetail.action?loan_id=66055249', 'IL']], dtype='<U69')"
      ]
     },
     "execution_count": 45,
     "metadata": {},
     "output_type": "execute_result"
    }
   ],
   "source": [
    "loan_data_string = np.genfromtxt('loan-data.csv', delimiter=';', usecols=col_string, skip_header=1, autostrip=True, dtype=str)\n",
    "loan_data_string"
   ]
  },
  {
   "cell_type": "code",
   "execution_count": 51,
   "id": "c99ed3f7-509f-47ec-b2ce-c41ee0e02be2",
   "metadata": {},
   "outputs": [
    {
     "data": {
      "text/plain": [
       "array([[48010226. ,    35000. ,    35000. ,       13.3,     1184.9,     9453. ],\n",
       "       [57693261. ,    30000. ,    30000. , 68616520. ,      938.6,     4679.7],\n",
       "       [59432726. ,    15000. ,    15000. , 68616520. ,      494.9,     1969.8],\n",
       "       ...,\n",
       "       [45424654. ,    11300. ,    11300. , 68616520. ,      364.6,     3274.9],\n",
       "       [50415990. ,    10000. ,    10000. , 68616520. , 68616520. ,     2185.6],\n",
       "       [46154151. , 68616520. ,    10000. ,       16.6,      354.3,     3199.4]])"
      ]
     },
     "execution_count": 51,
     "metadata": {},
     "output_type": "execute_result"
    }
   ],
   "source": [
    "loan_data_num = np.genfromtxt('loan-data.csv', delimiter=';', usecols=col_num, skip_header=1, skip_footer=1,autostrip=True, filling_values = tmp_fill)\n",
    "loan_data_num"
   ]
  },
  {
   "cell_type": "code",
   "execution_count": 60,
   "id": "3ff58fca-d134-4237-82d9-7d34a8cc3419",
   "metadata": {},
   "outputs": [
    {
     "data": {
      "text/plain": [
       "array(['id', 'issue_d', 'loan_amnt', 'loan_status', 'funded_amnt', 'term', 'int_rate', 'installment', 'grade', 'sub_grade', 'verification_status', 'url', 'addr_state', 'total_pymnt'], dtype='<U19')"
      ]
     },
     "execution_count": 60,
     "metadata": {},
     "output_type": "execute_result"
    }
   ],
   "source": [
    "header_full = np.genfromtxt('loan-data.csv', delimiter=';', skip_footer=loan_data.shape[0], autostrip=True, dtype=str)\n",
    "header_full"
   ]
  },
  {
   "cell_type": "code",
   "execution_count": 62,
   "id": "15d8efda-4e69-408a-912b-4432a6e384ce",
   "metadata": {},
   "outputs": [
    {
     "data": {
      "text/plain": [
       "array(['issue_d', 'loan_status', 'term', 'grade', 'sub_grade', 'verification_status', 'url', 'addr_state'], dtype='<U19')"
      ]
     },
     "execution_count": 62,
     "metadata": {},
     "output_type": "execute_result"
    }
   ],
   "source": [
    "header_strings, header_numeric = header_full[col_string] , header_full[col_num]\n",
    "header_strings"
   ]
  },
  {
   "cell_type": "code",
   "execution_count": 63,
   "id": "a75559d7-cb1b-418d-a50b-9ea94b96c1f9",
   "metadata": {},
   "outputs": [
    {
     "data": {
      "text/plain": [
       "array(['id', 'loan_amnt', 'funded_amnt', 'int_rate', 'installment', 'total_pymnt'], dtype='<U19')"
      ]
     },
     "execution_count": 63,
     "metadata": {},
     "output_type": "execute_result"
    }
   ],
   "source": [
    "header_numeric"
   ]
  },
  {
   "cell_type": "code",
   "execution_count": 66,
   "id": "3ff4d600-2e85-4602-9627-3c5807a12fca",
   "metadata": {},
   "outputs": [
    {
     "data": {
      "text/plain": [
       "array(['issue_d', 'loan_status', 'term', 'grade', 'sub_grade', 'verification_status', 'url', 'addr_state'], dtype='<U19')"
      ]
     },
     "execution_count": 66,
     "metadata": {},
     "output_type": "execute_result"
    }
   ],
   "source": [
    "header_strings"
   ]
  },
  {
   "cell_type": "code",
   "execution_count": 76,
   "id": "d11016e3-cf66-4f79-99a8-ebec8b7b62ad",
   "metadata": {},
   "outputs": [
    {
     "data": {
      "text/plain": [
       "chararray(['', '36', '60'], dtype='<U69')"
      ]
     },
     "execution_count": 76,
     "metadata": {},
     "output_type": "execute_result"
    }
   ],
   "source": [
    "np.unique(loan_data_string[:,2])\n",
    "month_num = np.chararray.strip(loan_data_string[:,2],\" months\")\n",
    "np.unique(month_num)"
   ]
  },
  {
   "cell_type": "code",
   "execution_count": 84,
   "id": "0f1a2605-564d-4060-b1c9-c0e2f6864eac",
   "metadata": {},
   "outputs": [
    {
     "data": {
      "text/html": [
       "<div>\n",
       "<style scoped>\n",
       "    .dataframe tbody tr th:only-of-type {\n",
       "        vertical-align: middle;\n",
       "    }\n",
       "\n",
       "    .dataframe tbody tr th {\n",
       "        vertical-align: top;\n",
       "    }\n",
       "\n",
       "    .dataframe thead th {\n",
       "        text-align: right;\n",
       "    }\n",
       "</style>\n",
       "<table border=\"1\" class=\"dataframe\">\n",
       "  <thead>\n",
       "    <tr style=\"text-align: right;\">\n",
       "      <th></th>\n",
       "      <th>LoanID</th>\n",
       "      <th>StringID</th>\n",
       "      <th>Product</th>\n",
       "      <th>CustomerGender</th>\n",
       "      <th>Location</th>\n",
       "      <th>Region</th>\n",
       "      <th>TotalPrice</th>\n",
       "    </tr>\n",
       "  </thead>\n",
       "  <tbody>\n",
       "    <tr>\n",
       "      <th>0</th>\n",
       "      <td>1</td>\n",
       "      <td>id_1</td>\n",
       "      <td>Product B</td>\n",
       "      <td>Male</td>\n",
       "      <td>Location 2</td>\n",
       "      <td>Region 2</td>\n",
       "      <td>16600.0</td>\n",
       "    </tr>\n",
       "    <tr>\n",
       "      <th>1</th>\n",
       "      <td>2</td>\n",
       "      <td>id_2</td>\n",
       "      <td>Product B</td>\n",
       "      <td>Male</td>\n",
       "      <td>Location 3</td>\n",
       "      <td>NaN</td>\n",
       "      <td>16600.0</td>\n",
       "    </tr>\n",
       "    <tr>\n",
       "      <th>2</th>\n",
       "      <td>3</td>\n",
       "      <td>id_3</td>\n",
       "      <td>Product C</td>\n",
       "      <td>Female</td>\n",
       "      <td>Location 5</td>\n",
       "      <td>Region 5</td>\n",
       "      <td>15600.0</td>\n",
       "    </tr>\n",
       "    <tr>\n",
       "      <th>3</th>\n",
       "      <td>4</td>\n",
       "      <td>id_4</td>\n",
       "      <td>Product B</td>\n",
       "      <td>Male</td>\n",
       "      <td>Location 6</td>\n",
       "      <td>Region 1</td>\n",
       "      <td>16600.0</td>\n",
       "    </tr>\n",
       "    <tr>\n",
       "      <th>4</th>\n",
       "      <td>5</td>\n",
       "      <td>id_5</td>\n",
       "      <td>Product D</td>\n",
       "      <td>Female</td>\n",
       "      <td>Location 7</td>\n",
       "      <td>Region 2</td>\n",
       "      <td>20250.0</td>\n",
       "    </tr>\n",
       "  </tbody>\n",
       "</table>\n",
       "</div>"
      ],
      "text/plain": [
       "   LoanID StringID    Product CustomerGender    Location    Region  TotalPrice\n",
       "0       1     id_1  Product B           Male  Location 2  Region 2     16600.0\n",
       "1       2     id_2  Product B           Male  Location 3       NaN     16600.0\n",
       "2       3     id_3  Product C         Female  Location 5  Region 5     15600.0\n",
       "3       4     id_4  Product B           Male  Location 6  Region 1     16600.0\n",
       "4       5     id_5  Product D         Female  Location 7  Region 2     20250.0"
      ]
     },
     "execution_count": 84,
     "metadata": {},
     "output_type": "execute_result"
    }
   ],
   "source": [
    "df= pd.read_csv(\"Lending-Company-Total-Price.csv\")\n",
    "df"
   ]
  },
  {
   "cell_type": "code",
   "execution_count": 85,
   "id": "316b35cd-2c9e-4224-b405-831f87aad7f7",
   "metadata": {},
   "outputs": [
    {
     "name": "stdout",
     "output_type": "stream",
     "text": [
      "0\n",
      "1\n",
      "2\n",
      "3\n",
      "4\n",
      "5\n",
      "6\n",
      "7\n",
      "8\n",
      "9\n"
     ]
    }
   ],
   "source": [
    "for i in range(10):\n",
    "    print(i)"
   ]
  }
 ],
 "metadata": {
  "kernelspec": {
   "display_name": "Python 3 (ipykernel)",
   "language": "python",
   "name": "python3"
  },
  "language_info": {
   "codemirror_mode": {
    "name": "ipython",
    "version": 3
   },
   "file_extension": ".py",
   "mimetype": "text/x-python",
   "name": "python",
   "nbconvert_exporter": "python",
   "pygments_lexer": "ipython3",
   "version": "3.11.7"
  }
 },
 "nbformat": 4,
 "nbformat_minor": 5
}
