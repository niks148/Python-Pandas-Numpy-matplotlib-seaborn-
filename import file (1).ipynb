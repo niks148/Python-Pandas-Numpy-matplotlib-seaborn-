{
 "cells": [
  {
   "cell_type": "code",
   "execution_count": 2,
   "id": "96b97a57-62e5-4ec3-a707-21d275e878d9",
   "metadata": {},
   "outputs": [],
   "source": [
    "filename=\"nihal/sample.txt\""
   ]
  },
  {
   "cell_type": "code",
   "execution_count": 29,
   "id": "0ad9075b-5577-4c63-9fb1-60f3892c8abf",
   "metadata": {},
   "outputs": [
    {
     "data": {
      "text/plain": [
       "'This is a sample file. You will rock it!! hello nihal limbani'"
      ]
     },
     "execution_count": 29,
     "metadata": {},
     "output_type": "execute_result"
    }
   ],
   "source": [
    "file = open(filename, mode='r',encoding='UTF-8')\n",
    "file.read()"
   ]
  },
  {
   "cell_type": "code",
   "execution_count": 23,
   "id": "a2931a2e-4eee-47b4-b6cd-1bf35203da2f",
   "metadata": {},
   "outputs": [
    {
     "data": {
      "text/plain": [
       "''"
      ]
     },
     "execution_count": 23,
     "metadata": {},
     "output_type": "execute_result"
    }
   ],
   "source": [
    "file.read()"
   ]
  },
  {
   "cell_type": "code",
   "execution_count": 34,
   "id": "538b84a7-e8f0-409c-93ba-e0319d8ac869",
   "metadata": {},
   "outputs": [
    {
     "name": "stdout",
     "output_type": "stream",
     "text": [
      "      LoanID     StringID    Product CustomerGender     Location    Region  \\\n",
      "0          1     LoanID_1  Product B         Female   Location 3  Region 2   \n",
      "1          2     LoanID_2  Product D         Female   Location 6  Region 6   \n",
      "2          3     LoanID_3  Product B           Male   Location 8  Region 3   \n",
      "3          4     LoanID_4  Product A           Male  Location 26  Region 2   \n",
      "4          5     LoanID_5  Product B         Female  Location 34  Region 3   \n",
      "...      ...          ...        ...            ...          ...       ...   \n",
      "1038    1039  LoanID_1039  Product B           Male  Location 73  Region 6   \n",
      "1039    1040  LoanID_1040  Product A           Male  Location 82  Region 1   \n",
      "1040    1041  LoanID_1041  Product A   NotSpecified  Location 11  Region 4   \n",
      "1041    1042  LoanID_1042  Product B         Female  Location 26  Region 6   \n",
      "1042    1043  LoanID_1043  Product A   NotSpecified  Location 94  Region 6   \n",
      "\n",
      "      TotalPrice   StartDate  Deposit  DailyRate  TotalDaysYr  AmtPaid36  \\\n",
      "0        17600.0  04/07/2018     2200         45          365       3221   \n",
      "1            NaN  02/01/2019     2200         45          365       3161   \n",
      "2        16600.0  08/12/2016     1000         45          365       2260   \n",
      "3        17600.0         NaN     2200         45          365       3141   \n",
      "4        21250.0  28/10/2017     2200         55          365       3570   \n",
      "...          ...         ...      ...        ...          ...        ...   \n",
      "1038     17300.0  29/12/2018     2200         45          365       3251   \n",
      "1039         NaN  28/03/2018     2200         45          365       4090   \n",
      "1040     17300.0  26/04/2018     2200         45          365       4051   \n",
      "1041     16300.0  25/10/2016     1000         45          365       1930   \n",
      "1042     17300.0  15/05/2019     2200         45          365       4451   \n",
      "\n",
      "      AmtPaid60  AmtPaid360        LoanStatus  \n",
      "0          4166       14621            Active  \n",
      "1          4096       16041            Active  \n",
      "2          3205       16340               NaN  \n",
      "3          4166       16321            Active  \n",
      "4          4745       14720            Active  \n",
      "...         ...         ...               ...  \n",
      "1038       4743       16617  Finished Payment  \n",
      "1039       5582       16617  Finished Payment  \n",
      "1040       5143       16617  Finished Payment  \n",
      "1041       3462       15617  Finished Payment  \n",
      "1042       4743       16617  Finished Payment  \n",
      "\n",
      "[1043 rows x 15 columns]\n"
     ]
    }
   ],
   "source": [
    "import pandas as pd\n",
    "# file =open('nihal/Lending-company.csv', mode='r')\n",
    "my_csv= pd.read_csv('nihal/Lending-company.csv')\n",
    "# text = file.read()\n",
    "print(my_csv)\n"
   ]
  },
  {
   "cell_type": "code",
   "execution_count": 40,
   "id": "701a5784-0bfe-4acc-adec-23ffea098a3a",
   "metadata": {},
   "outputs": [
    {
     "data": {
      "text/plain": [
       "True"
      ]
     },
     "execution_count": 40,
     "metadata": {},
     "output_type": "execute_result"
    }
   ],
   "source": [
    "import numpy as np\n",
    "n1=np.loadtxt('Lending-Company-Numeric-Data.csv',delimiter=',')\n",
    "n2=np.genfromtxt('Lending-Company-Numeric-Data.csv',delimiter=',')\n",
    "np.array_equal(n1,n2)"
   ]
  },
  {
   "cell_type": "code",
   "execution_count": 51,
   "id": "20a13756-acf9-4ce1-bb21-9d2cb142ac51",
   "metadata": {},
   "outputs": [
    {
     "name": "stdout",
     "output_type": "stream",
     "text": [
      "[365. 365. 365. ... 365. 365. 365.]\n",
      "[2160. 3041. 3470. ... 3401.   nan 4201.]\n",
      "[3280. 4241. 4820. ...   nan 5440. 5001.]\n"
     ]
    }
   ],
   "source": [
    "n3,n5,n7=np.genfromtxt('Lending-Company-Numeric-Data-NAN.csv', delimiter=';',\n",
    "                                                         skip_header=2, \n",
    "                                                         skip_footer=2,\n",
    "                                                         usecols=(2,3,4), unpack=True)\n",
    "print(n3)\n",
    "print(n5)\n",
    "print(n7)"
   ]
  },
  {
   "cell_type": "code",
   "execution_count": 53,
   "id": "763dbda9-a8df-4951-a0d5-86aaf2a74751",
   "metadata": {},
   "outputs": [
    {
     "name": "stdout",
     "output_type": "stream",
     "text": [
      "Currently I have 10 lpa but i wants \"horay!!\"\n"
     ]
    }
   ],
   "source": [
    "list_1 = [10,20,30,40]\n",
    "print('Currently I have %d lpa but i wants \"horay!!\"'%list_1[0])"
   ]
  },
  {
   "cell_type": "code",
   "execution_count": 57,
   "id": "e9d942dd-f3d7-43f0-a31e-cb7c03b98541",
   "metadata": {},
   "outputs": [
    {
     "name": "stdout",
     "output_type": "stream",
     "text": [
      "['personal ID', ' first name', ' last name', ' date of birth', ' place of birth', ' city of birth']\n",
      "personal ID, first name, last name, date of birth, place of birth, city of birth\n",
      "6\n"
     ]
    }
   ],
   "source": [
    "s2 = \"personal ID, first name, last name, date of birth, place of birth, city of birth\"\n",
    "print(s2.split(','))\n",
    "print(s2)\n",
    "print(len(s2.split(',')))"
   ]
  },
  {
   "cell_type": "code",
   "execution_count": 59,
   "id": "24896369-2e8b-47c0-abed-05309e27332e",
   "metadata": {},
   "outputs": [
    {
     "name": "stdout",
     "output_type": "stream",
     "text": [
      "Company A expects their next year's sales of Q3 to increase.\n"
     ]
    }
   ],
   "source": [
    "print(\"{} expects their next year's sales of Q{} to {}.\".format('Company A',3,'increase'))\n"
   ]
  },
  {
   "cell_type": "code",
   "execution_count": 60,
   "id": "d2995f25-77a4-4892-813d-69cc8079210a",
   "metadata": {},
   "outputs": [
    {
     "name": "stdout",
     "output_type": "stream",
     "text": [
      "Company A expects their next year's sales of Q3 to increase.\n"
     ]
    }
   ],
   "source": [
    "companies = ['Company A','Company B']\n",
    "quarter = [1,2,3,4]\n",
    "sales_performance_prediction = ['increase', 'decrease', 'remain the same']\n",
    "print(\"{} expects their next year's sales of Q{} to {}.\".format(companies[0],quarter[2],sales_performance_prediction[0]))"
   ]
  },
  {
   "cell_type": "code",
   "execution_count": 66,
   "id": "eb81edec-85ba-4276-9fc0-2527a9228427",
   "metadata": {},
   "outputs": [
    {
     "name": "stdout",
     "output_type": "stream",
     "text": [
      "70\n"
     ]
    }
   ],
   "source": [
    "n1=lambda x:10*x\n",
    "print(n1(7))"
   ]
  },
  {
   "cell_type": "code",
   "execution_count": 67,
   "id": "bb2d3cbc-4b5c-4bd4-8cfd-9b4a383c09ae",
   "metadata": {},
   "outputs": [
    {
     "name": "stdout",
     "output_type": "stream",
     "text": [
      "80\n"
     ]
    }
   ],
   "source": [
    "product_xy = lambda x,y : x*y\n",
    "print(product_xy(4,20))"
   ]
  },
  {
   "cell_type": "code",
   "execution_count": 72,
   "id": "3e771ec0-a1ea-4499-a832-4d8d2a32541e",
   "metadata": {},
   "outputs": [
    {
     "name": "stdout",
     "output_type": "stream",
     "text": [
      "{\n",
      "    \"result\": \"success\",\n",
      "    \"documentation\": \"https://www.exchangerate-api.com/docs\",\n",
      "    \"terms_of_use\": \"https://www.exchangerate-api.com/terms\",\n",
      "    \"time_last_update_unix\": 1714435201,\n",
      "    \"time_last_update_utc\": \"Tue, 30 Apr 2024 00:00:01 +0000\",\n",
      "    \"time_next_update_unix\": 1714521601,\n",
      "    \"time_next_update_utc\": \"Wed, 01 May 2024 00:00:01 +0000\",\n",
      "    \"base_code\": \"USD\",\n",
      "    \"conversion_rates\": {\n",
      "        \"USD\": 1,\n",
      "        \"AED\": 3.6725,\n",
      "        \"AFN\": 72.165,\n",
      "        \"ALL\": 94.1819,\n",
      "        \"AMD\": 388.2545,\n",
      "        \"ANG\": 1.79,\n",
      "        \"AOA\": 844.949,\n",
      "        \"ARS\": 864.75,\n",
      "        \"AUD\": 1.5238,\n",
      "        \"AWG\": 1.79,\n",
      "        \"AZN\": 1.7001,\n",
      "        \"BAM\": 1.8252,\n",
      "        \"BBD\": 2.0,\n",
      "        \"BDT\": 109.7639,\n",
      "        \"BGN\": 1.8251,\n",
      "        \"BHD\": 0.376,\n",
      "        \"BIF\": 2863.4692,\n",
      "        \"BMD\": 1.0,\n",
      "        \"BND\": 1.3603,\n",
      "        \"BOB\": 6.9219,\n",
      "        \"BRL\": 5.1153,\n",
      "        \"BSD\": 1.0,\n",
      "        \"BTN\": 83.4702,\n",
      "        \"BWP\": 13.893,\n",
      "        \"BYN\": 3.255,\n",
      "        \"BZD\": 2.0,\n",
      "        \"CAD\": 1.3657,\n",
      "        \"CDF\": 2745.9786,\n",
      "        \"CHF\": 0.911,\n",
      "        \"CLP\": 949.6965,\n",
      "        \"CNY\": 7.2416,\n",
      "        \"COP\": 3894.8367,\n",
      "        \"CRC\": 503.2345,\n",
      "        \"CUP\": 24.0,\n",
      "        \"CVE\": 102.8996,\n",
      "        \"CZK\": 23.4664,\n",
      "        \"DJF\": 177.721,\n",
      "        \"DKK\": 6.9607,\n",
      "        \"DOP\": 58.6772,\n",
      "        \"DZD\": 134.33,\n",
      "        \"EGP\": 47.8433,\n",
      "        \"ERN\": 15.0,\n",
      "        \"ETB\": 57.1409,\n",
      "        \"EUR\": 0.9332,\n",
      "        \"FJD\": 2.2596,\n",
      "        \"FKP\": 0.7967,\n",
      "        \"FOK\": 6.9604,\n",
      "        \"GBP\": 0.7967,\n",
      "        \"GEL\": 2.6857,\n",
      "        \"GGP\": 0.7967,\n",
      "        \"GHS\": 13.7076,\n",
      "        \"GIP\": 0.7967,\n",
      "        \"GMD\": 65.6034,\n",
      "        \"GNF\": 8576.102,\n",
      "        \"GTQ\": 7.7795,\n",
      "        \"GYD\": 209.1852,\n",
      "        \"HKD\": 7.8263,\n",
      "        \"HNL\": 24.7057,\n",
      "        \"HRK\": 7.0312,\n",
      "        \"HTG\": 132.5415,\n",
      "        \"HUF\": 365.2017,\n",
      "        \"IDR\": 16250.1461,\n",
      "        \"ILS\": 3.7525,\n",
      "        \"IMP\": 0.7967,\n",
      "        \"INR\": 83.4716,\n",
      "        \"IQD\": 1309.4066,\n",
      "        \"IRR\": 42077.4014,\n",
      "        \"ISK\": 140.2561,\n",
      "        \"JEP\": 0.7967,\n",
      "        \"JMD\": 156.1692,\n",
      "        \"JOD\": 0.709,\n",
      "        \"JPY\": 156.2473,\n",
      "        \"KES\": 134.3009,\n",
      "        \"KGS\": 89.1375,\n",
      "        \"KHR\": 4049.2082,\n",
      "        \"KID\": 1.5233,\n",
      "        \"KMF\": 459.1058,\n",
      "        \"KRW\": 1375.5381,\n",
      "        \"KWD\": 0.3078,\n",
      "        \"KYD\": 0.8333,\n",
      "        \"KZT\": 442.0794,\n",
      "        \"LAK\": 21699.689,\n",
      "        \"LBP\": 89500.0,\n",
      "        \"LKR\": 296.2411,\n",
      "        \"LRD\": 193.4292,\n",
      "        \"LSL\": 18.653,\n",
      "        \"LYD\": 4.8664,\n",
      "        \"MAD\": 10.1109,\n",
      "        \"MDL\": 17.7731,\n",
      "        \"MGA\": 4423.6431,\n",
      "        \"MKD\": 57.4663,\n",
      "        \"MMK\": 2104.0352,\n",
      "        \"MNT\": 3359.2342,\n",
      "        \"MOP\": 8.061,\n",
      "        \"MRU\": 39.6261,\n",
      "        \"MUR\": 46.4158,\n",
      "        \"MVR\": 15.4152,\n",
      "        \"MWK\": 1745.285,\n",
      "        \"MXN\": 17.0451,\n",
      "        \"MYR\": 4.7681,\n",
      "        \"MZN\": 63.8684,\n",
      "        \"NAD\": 18.653,\n",
      "        \"NGN\": 1244.211,\n",
      "        \"NIO\": 36.8188,\n",
      "        \"NOK\": 10.9945,\n",
      "        \"NPR\": 133.5523,\n",
      "        \"NZD\": 1.6737,\n",
      "        \"OMR\": 0.3845,\n",
      "        \"PAB\": 1.0,\n",
      "        \"PEN\": 3.7372,\n",
      "        \"PGK\": 3.8017,\n",
      "        \"PHP\": 57.6882,\n",
      "        \"PKR\": 278.9971,\n",
      "        \"PLN\": 4.031,\n",
      "        \"PYG\": 7483.3885,\n",
      "        \"QAR\": 3.64,\n",
      "        \"RON\": 4.6433,\n",
      "        \"RSD\": 109.2551,\n",
      "        \"RUB\": 93.1711,\n",
      "        \"RWF\": 1303.6015,\n",
      "        \"SAR\": 3.75,\n",
      "        \"SBD\": 8.4981,\n",
      "        \"SCR\": 13.6894,\n",
      "        \"SDG\": 454.2916,\n",
      "        \"SEK\": 10.9295,\n",
      "        \"SGD\": 1.3602,\n",
      "        \"SHP\": 0.7967,\n",
      "        \"SLE\": 22.6572,\n",
      "        \"SLL\": 22657.164,\n",
      "        \"SOS\": 571.9158,\n",
      "        \"SRD\": 34.0373,\n",
      "        \"SSP\": 1591.8806,\n",
      "        \"STN\": 22.8635,\n",
      "        \"SYP\": 12905.8833,\n",
      "        \"SZL\": 18.653,\n",
      "        \"THB\": 37.0071,\n",
      "        \"TJS\": 10.9325,\n",
      "        \"TMT\": 3.5001,\n",
      "        \"TND\": 3.1371,\n",
      "        \"TOP\": 2.3446,\n",
      "        \"TRY\": 32.4278,\n",
      "        \"TTD\": 6.7712,\n",
      "        \"TVD\": 1.5233,\n",
      "        \"TWD\": 32.5407,\n",
      "        \"TZS\": 2585.3357,\n",
      "        \"UAH\": 39.6484,\n",
      "        \"UGX\": 3808.9563,\n",
      "        \"UYU\": 38.6122,\n",
      "        \"UZS\": 12721.1557,\n",
      "        \"VES\": 36.4262,\n",
      "        \"VND\": 25308.1678,\n",
      "        \"VUV\": 120.6705,\n",
      "        \"WST\": 2.762,\n",
      "        \"XAF\": 612.141,\n",
      "        \"XCD\": 2.7,\n",
      "        \"XDR\": 0.7594,\n",
      "        \"XOF\": 612.141,\n",
      "        \"XPF\": 111.361,\n",
      "        \"YER\": 250.1184,\n",
      "        \"ZAR\": 18.6476,\n",
      "        \"ZMW\": 26.5945,\n",
      "        \"ZWL\": 13.4407\n",
      "    }\n",
      "}\n"
     ]
    }
   ],
   "source": [
    "import requests\n",
    "import json\n",
    "base_url = 'https://v6.exchangerate-api.com/v6/bfddd9bc480caf5c810381e7/latest/USD' + '?base=b'\n",
    "data = requests.get(base_url)\n",
    "# print(json.dumps(data.json(), indent=4))\n"
   ]
  },
  {
   "cell_type": "code",
   "execution_count": 76,
   "id": "313c180e-03e9-4849-ab7d-cbc934297d38",
   "metadata": {},
   "outputs": [
    {
     "name": "stdout",
     "output_type": "stream",
     "text": [
      "['1963-08-02' '1964-06-13' '1989-12-04' '1996-04-08']\n",
      "(4,)\n"
     ]
    }
   ],
   "source": [
    "import pandas as pd\n",
    "\n",
    "emp_birth_date = pd.Series({'No_0001':'1963-08-02', 'No_0002':'1964-06-13', 'No_0003':'1989-12-04', 'No_0004':'1996-04-08'},{'No_0001':'1963-08-02', 'No_0002':'1964-06-13', 'No_0003':'1989-12-04', 'No_0004':'1996-04-08'})\n",
    "print(emp_birth_date.values)\n",
    "print(emp_birth_date.shape)"
   ]
  },
  {
   "cell_type": "code",
   "execution_count": 83,
   "id": "e93220d7-4502-45bf-80d8-91f65870eb8f",
   "metadata": {},
   "outputs": [
    {
     "data": {
      "text/plain": [
       "2"
      ]
     },
     "execution_count": 83,
     "metadata": {},
     "output_type": "execute_result"
    }
   ],
   "source": [
    "import numpy as np\n",
    "n1= np.array([[1,2,3],[4,5,6]])\n",
    "n1[0]*n1[1]\n",
    "len(n1)"
   ]
  },
  {
   "cell_type": "code",
   "execution_count": 122,
   "id": "2431ee79-276b-46a9-be9b-c42660551dd4",
   "metadata": {},
   "outputs": [
    {
     "data": {
      "text/plain": [
       "2"
      ]
     },
     "execution_count": 122,
     "metadata": {},
     "output_type": "execute_result"
    }
   ],
   "source": [
    "l1={'k1':'v1','k2':'v2'}\n",
    "len(l1)"
   ]
  },
  {
   "cell_type": "code",
   "execution_count": 129,
   "id": "5333aca7-04bd-431e-b296-0a4a5c79e453",
   "metadata": {},
   "outputs": [
    {
     "data": {
      "text/plain": [
       "array([[24],\n",
       "       [57],\n",
       "       [68]])"
      ]
     },
     "execution_count": 129,
     "metadata": {},
     "output_type": "execute_result"
    }
   ],
   "source": [
    "matrix_A = np.array([[1,2,3],[4,5,6],[5,6,7]])\n",
    "matrix_B = np.array([[4],[1],[6]])\n",
    "matrix_A.dot(matrix_B)"
   ]
  },
  {
   "cell_type": "code",
   "execution_count": 126,
   "id": "67467c94-6b63-4d0f-9588-4a5e1c2e0514",
   "metadata": {},
   "outputs": [
    {
     "ename": "ValueError",
     "evalue": "shapes (2,3) and (2,3) not aligned: 3 (dim 1) != 2 (dim 0)",
     "output_type": "error",
     "traceback": [
      "\u001b[1;31m---------------------------------------------------------------------------\u001b[0m",
      "\u001b[1;31mValueError\u001b[0m                                Traceback (most recent call last)",
      "Cell \u001b[1;32mIn[126], line 1\u001b[0m\n\u001b[1;32m----> 1\u001b[0m matrix_A\u001b[38;5;241m.\u001b[39mdot(matrix_A)\n",
      "\u001b[1;31mValueError\u001b[0m: shapes (2,3) and (2,3) not aligned: 3 (dim 1) != 2 (dim 0)"
     ]
    }
   ],
   "source": [
    "dot()"
   ]
  }
 ],
 "metadata": {
  "kernelspec": {
   "display_name": "Python 3 (ipykernel)",
   "language": "python",
   "name": "python3"
  },
  "language_info": {
   "codemirror_mode": {
    "name": "ipython",
    "version": 3
   },
   "file_extension": ".py",
   "mimetype": "text/x-python",
   "name": "python",
   "nbconvert_exporter": "python",
   "pygments_lexer": "ipython3",
   "version": "3.11.7"
  }
 },
 "nbformat": 4,
 "nbformat_minor": 5
}
